{
 "cells": [
  {
   "cell_type": "markdown",
   "metadata": {},
   "source": [
    "# Self-Driving Car Engineer Nanodegree\n",
    "\n",
    "## Deep Learning\n",
    "\n",
    "## Project: Build a Traffic Sign Recognition Classifier\n",
    "\n",
    "In this notebook, a template is provided for you to implement your functionality in stages, which is required to successfully complete this project. If additional code is required that cannot be included in the notebook, be sure that the Python code is successfully imported and included in your submission if necessary. \n",
    "\n",
    "> **Note**: Once you have completed all of the code implementations, you need to finalize your work by exporting the iPython Notebook as an HTML document. Before exporting the notebook to html, all of the code cells need to have been run so that reviewers can see the final implementation and output. You can then export the notebook by using the menu above and navigating to  \\n\",\n",
    "    \"**File -> Download as -> HTML (.html)**. Include the finished document along with this notebook as your submission. \n",
    "\n",
    "In addition to implementing code, there is a writeup to complete. The writeup should be completed in a separate file, which can be either a markdown file or a pdf document. There is a [write up template](https://github.com/udacity/CarND-Traffic-Sign-Classifier-Project/blob/master/writeup_template.md) that can be used to guide the writing process. Completing the code template and writeup template will cover all of the [rubric points](https://review.udacity.com/#!/rubrics/481/view) for this project.\n",
    "\n",
    "The [rubric](https://review.udacity.com/#!/rubrics/481/view) contains \"Stand Out Suggestions\" for enhancing the project beyond the minimum requirements. The stand out suggestions are optional. If you decide to pursue the \"stand out suggestions\", you can include the code in this Ipython notebook and also discuss the results in the writeup file.\n",
    "\n",
    "\n",
    ">**Note:** Code and Markdown cells can be executed using the **Shift + Enter** keyboard shortcut. In addition, Markdown cells can be edited by typically double-clicking the cell to enter edit mode."
   ]
  },
  {
   "cell_type": "markdown",
   "metadata": {},
   "source": [
    "---\n",
    "## Step 0: Load The Data"
   ]
  },
  {
   "cell_type": "code",
   "execution_count": 1,
   "metadata": {
    "collapsed": true
   },
   "outputs": [],
   "source": [
    "# Load pickled data\n",
    "import pickle\n",
    "\n",
    "# TODO: Fill this in based on where you saved the training and testing data\n",
    "\n",
    "training_file = '/Users/yimingzhao/Udacity/AutoNano/TrafficSignClassifyWithLeNet/traffic-signs-data/train.p'\n",
    "validation_file='/Users/yimingzhao/Udacity/AutoNano/TrafficSignClassifyWithLeNet/traffic-signs-data/valid.p'\n",
    "testing_file = '/Users/yimingzhao/Udacity/AutoNano/TrafficSignClassifyWithLeNet/traffic-signs-data/test.p'\n",
    "\n",
    "with open(training_file, mode='rb') as f:\n",
    "    train = pickle.load(f)\n",
    "with open(validation_file, mode='rb') as f:\n",
    "    valid = pickle.load(f)\n",
    "with open(testing_file, mode='rb') as f:\n",
    "    test = pickle.load(f)\n",
    "    \n",
    "X_train, y_train = train['features'], train['labels']\n",
    "X_valid, y_valid = valid['features'], valid['labels']\n",
    "X_test, y_test = test['features'], test['labels']"
   ]
  },
  {
   "cell_type": "markdown",
   "metadata": {},
   "source": [
    "---\n",
    "\n",
    "## Step 1: Dataset Summary & Exploration\n",
    "\n",
    "The pickled data is a dictionary with 4 key/value pairs:\n",
    "\n",
    "- `'features'` is a 4D array containing raw pixel data of the traffic sign images, (num examples, width, height, channels).\n",
    "- `'labels'` is a 1D array containing the label/class id of the traffic sign. The file `signnames.csv` contains id -> name mappings for each id.\n",
    "- `'sizes'` is a list containing tuples, (width, height) representing the original width and height the image.\n",
    "- `'coords'` is a list containing tuples, (x1, y1, x2, y2) representing coordinates of a bounding box around the sign in the image. **THESE COORDINATES ASSUME THE ORIGINAL IMAGE. THE PICKLED DATA CONTAINS RESIZED VERSIONS (32 by 32) OF THESE IMAGES**\n",
    "\n",
    "Complete the basic data summary below. Use python, numpy and/or pandas methods to calculate the data summary rather than hard coding the results. For example, the [pandas shape method](http://pandas.pydata.org/pandas-docs/stable/generated/pandas.DataFrame.shape.html) might be useful for calculating some of the summary results. "
   ]
  },
  {
   "cell_type": "markdown",
   "metadata": {},
   "source": [
    "### Provide a Basic Summary of the Data Set Using Python, Numpy and/or Pandas"
   ]
  },
  {
   "cell_type": "code",
   "execution_count": 25,
   "metadata": {},
   "outputs": [
    {
     "name": "stdout",
     "output_type": "stream",
     "text": [
      "Number of training examples = 34799\n",
      "Number of testing examples = 12630\n",
      "Number of validation examples = 4410\n",
      "Image data shape = (32, 32, 3)\n",
      "Number of classes = [ 0  1  2  3  4  5  6  7  8  9 10 11 12 13 14 15 16 17 18 19 20 21 22 23 24\n",
      " 25 26 27 28 29 30 31 32 33 34 35 36 37 38 39 40 41 42]\n"
     ]
    }
   ],
   "source": [
    "### Replace each question mark with the appropriate value. \n",
    "### Use python, pandas or numpy methods rather than hard coding the results\n",
    "import numpy as np\n",
    "# TODO: Number of training examples\n",
    "n_train = np.shape(X_train)[0]\n",
    "\n",
    "# TODO: Number of validation examples\n",
    "n_validation = np.shape(X_valid)[0]\n",
    "\n",
    "# TODO: Number of testing examples.\n",
    "n_test = np.shape(X_test)[0]\n",
    "\n",
    "# TODO: What's the shape of an traffic sign image?\n",
    "image_shape = np.shape(X_train[1])\n",
    "\n",
    "# TODO: How many unique classes/labels there are in the dataset.\n",
    "n_classes = np.unique(y_train)\n",
    "\n",
    "print(\"Number of training examples =\", n_train)\n",
    "print(\"Number of testing examples =\", n_test)\n",
    "print(\"Number of validation examples =\", n_validation)\n",
    "print(\"Image data shape =\", image_shape)\n",
    "print(\"Number of classes =\", n_classes)"
   ]
  },
  {
   "cell_type": "markdown",
   "metadata": {},
   "source": [
    "### Include an exploratory visualization of the dataset"
   ]
  },
  {
   "cell_type": "markdown",
   "metadata": {},
   "source": [
    "Visualize the German Traffic Signs Dataset using the pickled file(s). This is open ended, suggestions include: plotting traffic sign images, plotting the count of each sign, etc. \n",
    "\n",
    "The [Matplotlib](http://matplotlib.org/) [examples](http://matplotlib.org/examples/index.html) and [gallery](http://matplotlib.org/gallery.html) pages are a great resource for doing visualizations in Python.\n",
    "\n",
    "**NOTE:** It's recommended you start with something simple first. If you wish to do more, come back to it after you've completed the rest of the sections. It can be interesting to look at the distribution of classes in the training, validation and test set. Is the distribution the same? Are there more examples of some classes than others?"
   ]
  },
  {
   "cell_type": "code",
   "execution_count": 3,
   "metadata": {},
   "outputs": [
    {
     "data": {
      "text/plain": [
       "<matplotlib.image.AxesImage at 0x12d6d50b8>"
      ]
     },
     "execution_count": 3,
     "metadata": {},
     "output_type": "execute_result"
    },
    {
     "data": {
      "image/png": "[encoded data removed]",
      "text/plain": [
       "<matplotlib.figure.Figure at 0x11763f208>"
      ]
     },
     "metadata": {},
     "output_type": "display_data"
    }
   ],
   "source": [
    "### Data exploration visualization code goes here.\n",
    "### Feel free to use as many code cells as needed.\n",
    "import matplotlib.pyplot as plt\n",
    "# Visualizations will be shown in the notebook.\n",
    "%matplotlib inline\n",
    "\n",
    "\n",
    "plt.subplot(1, 3, 1)\n",
    "plt.imshow(X_train[10000])\n",
    "plt.subplot(1, 3, 2)\n",
    "plt.imshow(X_valid[1000])\n",
    "plt.subplot(1, 3, 3)\n",
    "plt.imshow(X_test[1000])\n"
   ]
  },
  {
   "cell_type": "markdown",
   "metadata": {},
   "source": [
    "----\n",
    "\n",
    "## Step 2: Design and Test a Model Architecture\n",
    "\n",
    "Design and implement a deep learning model that learns to recognize traffic signs. Train and test your model on the [German Traffic Sign Dataset](http://benchmark.ini.rub.de/?section=gtsrb&subsection=dataset).\n",
    "\n",
    "The LeNet-5 implementation shown in the [classroom](https://classroom.udacity.com/nanodegrees/nd013/parts/fbf77062-5703-404e-b60c-95b78b2f3f9e/modules/6df7ae49-c61c-4bb2-a23e-6527e69209ec/lessons/601ae704-1035-4287-8b11-e2c2716217ad/concepts/d4aca031-508f-4e0b-b493-e7b706120f81) at the end of the CNN lesson is a solid starting point. You'll have to change the number of classes and possibly the preprocessing, but aside from that it's plug and play! \n",
    "\n",
    "With the LeNet-5 solution from the lecture, you should expect a validation set accuracy of about 0.89. To meet specifications, the validation set accuracy will need to be at least 0.93. It is possible to get an even higher accuracy, but 0.93 is the minimum for a successful project submission. \n",
    "\n",
    "There are various aspects to consider when thinking about this problem:\n",
    "\n",
    "- Neural network architecture (is the network over or underfitting?)\n",
    "- Play around preprocessing techniques (normalization, rgb to grayscale, etc)\n",
    "- Number of examples per label (some have more than others).\n",
    "- Generate fake data.\n",
    "\n",
    "Here is an example of a [published baseline model on this problem](http://yann.lecun.com/exdb/publis/pdf/sermanet-ijcnn-11.pdf). It's not required to be familiar with the approach used in the paper but, it's good practice to try to read papers like these."
   ]
  },
  {
   "cell_type": "markdown",
   "metadata": {},
   "source": [
    "### Pre-process the Data Set (normalization, grayscale, etc.)"
   ]
  },
  {
   "cell_type": "markdown",
   "metadata": {},
   "source": [
    "Minimally, the image data should be normalized so that the data has mean zero and equal variance. For image data, `(pixel - 128)/ 128` is a quick way to approximately normalize the data and can be used in this project. \n",
    "\n",
    "Other pre-processing steps are optional. You can try different techniques to see if it improves performance. \n",
    "\n",
    "Use the code cell (or multiple code cells, if necessary) to implement the first step of your project."
   ]
  },
  {
   "cell_type": "code",
   "execution_count": 4,
   "metadata": {
    "collapsed": true
   },
   "outputs": [],
   "source": [
    "# preprocessing by normalize \n",
    "X_train=X_train.astype(float)\n",
    "for i in range(n_train):\n",
    "    X_train[i,:,:,:]=(X_train[i,:,:,:]-128)/128.0\n",
    "    \n",
    "X_valid=X_valid.astype(float)\n",
    "for i in range(n_validation):\n",
    "    X_valid[i,:,:,:]=(X_valid[i,:,:,:]-128)/128.0\n",
    "\n",
    "X_test=X_test.astype(float)\n",
    "for i in range(n_test):\n",
    "    X_test[i,:,:,:]=(X_test[i,:,:,:]-128)/128.0\n"
   ]
  },
  {
   "cell_type": "code",
   "execution_count": 4,
   "metadata": {},
   "outputs": [
    {
     "data": {
      "text/plain": [
       "<matplotlib.image.AxesImage at 0x138374898>"
      ]
     },
     "execution_count": 4,
     "metadata": {},
     "output_type": "execute_result"
    },
    {
     "data": {
      "image/png": "[encoded data removed]",
      "text/plain": [
       "<matplotlib.figure.Figure at 0x126c5d160>"
      ]
     },
     "metadata": {},
     "output_type": "display_data"
    }
   ],
   "source": [
    "# preprocessing by change it to grey-scale and normalize\n",
    "## This part is proved no improvement for the accuracy.\n",
    "### If you want to use the code in this chunk, you should change the input structure from 3 to 1.\n",
    "import cv2\n",
    "\n",
    "X_train_grey=np.zeros((np.shape(X_train)[0],np.shape(X_train)[1],np.shape(X_train)[2],1))\n",
    "X_valid_grey=np.zeros((np.shape(X_valid)[0],np.shape(X_valid)[1],np.shape(X_valid)[2],1))\n",
    "X_test_grey=np.zeros((np.shape(X_test)[0],np.shape(X_test)[1],np.shape(X_test)[2],1))\n",
    "\n",
    "\n",
    "X_train=X_train.astype(np.uint8)\n",
    "for i in range(n_train):\n",
    "    X_train_grey[i,:,:,0]=cv2.cvtColor(X_train[i,:,:,:],cv2.COLOR_BGR2GRAY)\n",
    "\n",
    "X_valid=X_valid.astype(np.uint8)\n",
    "for i in range(n_validation):\n",
    "    X_valid_grey[i,:,:,0]=cv2.cvtColor(X_valid[i,:,:,:],cv2.COLOR_BGR2GRAY)\n",
    "\n",
    "X_test=X_test.astype(np.uint8)\n",
    "for i in range(n_test):\n",
    "    X_test_grey[i,:,:,0]=cv2.cvtColor(X_test[i,:,:,:],cv2.COLOR_BGR2GRAY)\n",
    "    \n",
    "    \n",
    "X_train_grey=X_train_grey.astype(float)\n",
    "for i in range(n_train):\n",
    "    X_train_grey[i,:,:,:]=(X_train_grey[i,:,:,:]-128)/128.0\n",
    "    \n",
    "X_valid_grey=X_valid_grey.astype(float)\n",
    "for i in range(n_validation):\n",
    "    X_valid_grey[i,:,:,:]=(X_valid_grey[i,:,:,:]-128)/128.0\n",
    "\n",
    "X_test_grey=X_test_grey.astype(float)\n",
    "for i in range(n_test):\n",
    "    X_test_grey[i,:,:,:]=(X_test_grey[i,:,:,:]-128)/128.0\n",
    "    ### converting to grayscale, etc.\n",
    "### Feel free to use as many code cells as needed.\n",
    "plt.subplot(1, 3, 1)\n",
    "plt.imshow(X_train_grey[10000,:,:,0])\n",
    "plt.subplot(1, 3, 2)\n",
    "plt.imshow(X_valid_grey[1000,:,:,0])\n",
    "plt.subplot(1, 3, 3)\n",
    "plt.imshow(X_test_grey[1000,:,:,0])"
   ]
  },
  {
   "cell_type": "markdown",
   "metadata": {},
   "source": [
    "### Model Architecture"
   ]
  },
  {
   "cell_type": "code",
   "execution_count": 9,
   "metadata": {},
   "outputs": [],
   "source": [
    "### Define your architecture here.\n",
    "from tensorflow.contrib.layers import flatten\n",
    "import tensorflow as tf\n",
    "\n",
    "learning_rate=0.0003\n",
    "\n",
    "def conv_layer(input, size_in, size_out, name=\"conv\"):\n",
    "  with tf.name_scope(name):\n",
    "    w = tf.Variable(tf.truncated_normal([5, 5, size_in, size_out], stddev=0.1), name=\"W\")\n",
    "    b = tf.Variable(tf.constant(0.1, shape=[size_out]), name=\"B\")\n",
    "    conv = tf.nn.conv2d(input, w, strides=[1, 1, 1, 1], padding=\"VALID\")\n",
    "    act = tf.nn.relu(conv + b)\n",
    "    tf.summary.histogram(\"weights\", w)\n",
    "    tf.summary.histogram(\"biases\", b)\n",
    "    tf.summary.histogram(\"activations\", act)\n",
    "    return tf.nn.max_pool(act, ksize=[1, 2, 2, 1], strides=[1, 2, 2, 1], padding=\"VALID\")\n",
    "\n",
    "\n",
    "def fc_layer(input, size_in, size_out, name=\"fc\",Relu=1):\n",
    "  with tf.name_scope(name):\n",
    "    w = tf.Variable(tf.truncated_normal([size_in, size_out], stddev=0.1), name=\"W\")\n",
    "    b = tf.Variable(tf.constant(0.1, shape=[size_out]), name=\"B\")\n",
    "    act = tf.matmul(input, w) + b\n",
    "    tf.summary.histogram(\"weights\", w)\n",
    "    tf.summary.histogram(\"biases\", b)\n",
    "    tf.summary.histogram(\"activations\", act)\n",
    "    if Relu==1:\n",
    "        return tf.nn.relu(act)\n",
    "    else:\n",
    "        return act\n",
    "\n",
    "    \n",
    "LeNet=tf.Graph()\n",
    "with LeNet.as_default():\n",
    "    Input=tf.placeholder(tf.float32, shape=[None, 32,32,3], name=\"Input\")\n",
    "    tf.summary.image('input', Input, 3)\n",
    "    conv1=conv_layer(Input, 3, 6, name=\"conv1\")\n",
    "    conv2=conv_layer(conv1, 6, 16, name=\"conv2\")\n",
    "    fc0   = flatten(conv2)\n",
    "    fc1=fc_layer(fc0, 400, 120, name=\"fc1\")\n",
    "    fc2=fc_layer(fc1, 120, 84, name=\"fc2\")\n",
    "    Output=fc_layer(fc2, 84, 43, name=\"fc3\",Relu=0)\n",
    "    \n",
    "    Y_test=tf.placeholder(tf.int32, shape=[None], name=\"Real_result\")\n",
    "    Y_test_onehot=tf.one_hot(Y_test,43)\n",
    "    cross_entropy=tf.nn.softmax_cross_entropy_with_logits(logits=Output,labels=Y_test_onehot)\n",
    "    with tf.name_scope(\"loss\"):\n",
    "        loss=tf.reduce_mean(cross_entropy)\n",
    "        tf.summary.scalar(\"loss\", loss)\n",
    "    with tf.name_scope(\"train\"):\n",
    "        train_step = tf.train.AdamOptimizer(learning_rate).minimize(loss)\n",
    "    with tf.name_scope(\"Accuracy\"):\n",
    "        correct_prediction=tf.equal(tf.argmax(Output,1),tf.argmax(Y_test_onehot,1))\n",
    "        accuracy=tf.reduce_mean(tf.cast(correct_prediction,tf.float32))\n",
    "        tf.summary.scalar(\"Accuracy\",accuracy)\n",
    "    summ = tf.summary.merge_all()\n",
    "\n",
    "### Feel free to use as many code cells as needed."
   ]
  },
  {
   "cell_type": "markdown",
   "metadata": {},
   "source": [
    "### Train, Validate and Test the Model"
   ]
  },
  {
   "cell_type": "markdown",
   "metadata": {},
   "source": [
    "A validation set can be used to assess how well the model is performing. A low accuracy on the training and validation\n",
    "sets imply underfitting. A high accuracy on the training set but low accuracy on the validation set implies overfitting."
   ]
  },
  {
   "cell_type": "code",
   "execution_count": 10,
   "metadata": {},
   "outputs": [
    {
     "name": "stdout",
     "output_type": "stream",
     "text": [
      "Epoch 1 training accuracy is : 0.891735\n",
      "Epoch 2 training accuracy is : 0.944459\n",
      "Epoch 3 training accuracy is : 0.946011\n",
      "Epoch 4 training accuracy is : 0.976657\n",
      "Epoch 5 training accuracy is : 0.982349\n",
      "Epoch 6 training accuracy is : 0.985396\n",
      "Epoch 7 training accuracy is : 0.983355\n",
      "Epoch 8 training accuracy is : 0.988990\n",
      "Epoch 9 training accuracy is : 0.996090\n",
      "Epoch 10 training accuracy is : 0.994394\n",
      "Epoch 11 training accuracy is : 0.993790\n",
      "Epoch 12 training accuracy is : 0.991491\n",
      "Epoch 13 training accuracy is : 0.996953\n",
      "Epoch 14 training accuracy is : 0.998333\n",
      "Epoch 15 training accuracy is : 0.997528\n",
      "Validation accuracy is : 0.930148\n",
      "Test accuracy is : 0.913278\n",
      "Run `tensorboard --logdir=~/LeNet` to see the results.\n"
     ]
    }
   ],
   "source": [
    "### Train your model here.\n",
    "\n",
    "from sklearn.utils import shuffle\n",
    "\n",
    "import os\n",
    "Epoch=15\n",
    "BATCH_SIZE=15\n",
    "\n",
    "\n",
    "with tf.Session(graph=LeNet) as sess:\n",
    "    sess.run(tf.global_variables_initializer())\n",
    "    writer = tf.summary.FileWriter('./LeNet')\n",
    "    writer.add_graph(sess.graph)\n",
    "    \n",
    "    for i in range(Epoch):\n",
    "        Accuracy=0.0\n",
    "        n_batch=0\n",
    "        X_train,y_train=shuffle(X_train,y_train)\n",
    "        for offset in range(0,(n_train-BATCH_SIZE),BATCH_SIZE):\n",
    "            end=offset+BATCH_SIZE\n",
    "            batch_X,batch_y= X_train[offset:end],y_train[offset:end]\n",
    "            sess.run(train_step, feed_dict={Input:batch_X,Y_test:batch_y})\n",
    "        for offset in range(0,(n_train-BATCH_SIZE),BATCH_SIZE):\n",
    "            end=offset+BATCH_SIZE\n",
    "            n_batch=n_batch+1\n",
    "            batch_X,batch_y= X_train[offset:end],y_train[offset:end]\n",
    "            Accuracy=Accuracy+accuracy.eval(feed_dict={Input:batch_X,Y_test:batch_y})\n",
    "        print ('Epoch %d training accuracy is : %f' %(i+1,Accuracy/n_batch))\n",
    "    \n",
    "    \n",
    "    n_batch=0\n",
    "    Accuracy=0.0\n",
    "    for offset in range(0,(n_validation-BATCH_SIZE),BATCH_SIZE):\n",
    "        end=offset+BATCH_SIZE\n",
    "        n_batch=n_batch+1\n",
    "        batch_X,batch_y= X_valid[offset:end],y_valid[offset:end]\n",
    "        Accuracy=Accuracy+accuracy.eval(feed_dict={Input:batch_X,Y_test:batch_y})\n",
    "    print ('Validation accuracy is : %f' %(Accuracy/n_batch))\n",
    "    \n",
    "    \n",
    "    if (Accuracy/n_batch)>0.93:\n",
    "        n_batch=0\n",
    "        Accuracy=0.0\n",
    "        for offset in range(0,(n_test-BATCH_SIZE),BATCH_SIZE):\n",
    "            end=offset+BATCH_SIZE\n",
    "            n_batch=n_batch+1\n",
    "            batch_X,batch_y= X_test[offset:end],y_test[offset:end]\n",
    "            Accuracy=Accuracy+accuracy.eval(feed_dict={Input:batch_X,Y_test:batch_y})\n",
    "        print ('Test accuracy is : %f' %(Accuracy/n_batch))\n",
    "        \n",
    "        saver=tf.train.Saver()\n",
    "        saver.save(sess,'./save/LeNet')\n",
    "       \n",
    "    \n",
    "    \n",
    "    print ('Run `tensorboard --logdir=~/LeNet` to see the results.')\n",
    "### Calculate and report the accuracy on the training and validation set.\n",
    "### Once a final model architecture is selected, \n",
    "### the accuracy on the test set should be calculated and reported as well.\n",
    "### Feel free to use as many code cells as needed."
   ]
  },
  {
   "cell_type": "markdown",
   "metadata": {},
   "source": [
    "---\n",
    "\n",
    "## Step 3: Test a Model on New Images\n",
    "\n",
    "To give yourself more insight into how your model is working, download at least five pictures of German traffic signs from the web and use your model to predict the traffic sign type.\n",
    "\n",
    "You may find `signnames.csv` useful as it contains mappings from the class id (integer) to the actual sign name."
   ]
  },
  {
   "cell_type": "markdown",
   "metadata": {},
   "source": [
    "### Load and Output the Images"
   ]
  },
  {
   "cell_type": "code",
   "execution_count": 28,
   "metadata": {},
   "outputs": [
    {
     "data": {
      "image/png": "[encoded data removed]",
      "text/plain": [
       "<matplotlib.figure.Figure at 0x119805898>"
      ]
     },
     "metadata": {},
     "output_type": "display_data"
    }
   ],
   "source": [
    "### Load the images and plot them here.\n",
    "\n",
    "Image_train=[]\n",
    "Image_y=[]\n",
    "import cv2\n",
    "import matplotlib.image as mpimg\n",
    "\n",
    "\n",
    "image1 = mpimg.imread('Image/22.ppm')\n",
    "image1= cv2.resize(image1,(32,32))\n",
    "plt.subplot(1,5,1)\n",
    "plt.imshow(image1)\n",
    "Image_train.append(image1)\n",
    "Image_y.append(22)\n",
    "\n",
    "\n",
    "image2 = mpimg.imread('Image/0.ppm')\n",
    "image2= cv2.resize(image2,(32,32))\n",
    "plt.subplot(1,5,2)\n",
    "plt.imshow(image2)\n",
    "Image_train.append(image2)\n",
    "Image_y.append(0)\n",
    "\n",
    "\n",
    "image3 = mpimg.imread('Image/1.ppm')\n",
    "image3= cv2.resize(image3,(32,32))\n",
    "plt.subplot(1,5,3)\n",
    "plt.imshow(image3)\n",
    "Image_train.append(image3)\n",
    "Image_y.append(1)\n",
    "\n",
    "\n",
    "image4 = mpimg.imread('Image/2.ppm')\n",
    "image4= cv2.resize(image4,(32,32))\n",
    "plt.subplot(1,5,4)\n",
    "plt.imshow(image4)\n",
    "Image_train.append(image4)\n",
    "Image_y.append(2)\n",
    "\n",
    "\n",
    "image5 = mpimg.imread('Image/37.ppm')\n",
    "image5= cv2.resize(image5,(32,32))\n",
    "plt.subplot(1,5,5)\n",
    "plt.imshow(image5)\n",
    "Image_train.append(image5)\n",
    "Image_y.append(37)\n",
    "### Feel free to use as many code cells as needed."
   ]
  },
  {
   "cell_type": "code",
   "execution_count": 14,
   "metadata": {},
   "outputs": [],
   "source": [
    "# Load the real meaning of each sign and preprocess test data\n",
    "import csv\n",
    "Real_meaning={}\n",
    "with open('signnames.csv', newline='') as csvfile:\n",
    "    spamreader = csv.reader(csvfile, delimiter=',', quotechar='|')\n",
    "    for row in spamreader:\n",
    "        Real_meaning[row[0]]=row[1]\n",
    "\n",
    "\n",
    "Image=[]\n",
    "for i in Image_train:\n",
    "    i = np.expand_dims(i, axis=0)\n",
    "    i=i.astype(float)\n",
    "    Image.append((i-128)/128.)\n",
    "\n",
    "\n"
   ]
  },
  {
   "cell_type": "markdown",
   "metadata": {},
   "source": [
    "### Predict the Sign Type for Each Image"
   ]
  },
  {
   "cell_type": "code",
   "execution_count": 15,
   "metadata": {},
   "outputs": [
    {
     "name": "stdout",
     "output_type": "stream",
     "text": [
      "INFO:tensorflow:Restoring parameters from ./save/LeNet\n"
     ]
    }
   ],
   "source": [
    "# Load the model, output the probability of softmax for those five images.\n",
    "\n",
    "saver=tf.train.import_meta_graph(\"./save/LeNet.meta\")\n",
    "\n",
    "'''\n",
    "print(tf.get_default_graph().get_all_collection_keys())\n",
    "for v in tf.get_default_graph().get_collection(\"variables\"):\n",
    "    print(v)\n",
    "    \n",
    "\n",
    "for v in tf.get_default_graph().get_collection(\"trainable_variables\"):\n",
    "    print(v)\n",
    "\n",
    "for x in tf.get_default_graph().get_operations():\n",
    "    #if x.type == \"Placeholder\":\n",
    "    print (x)\n",
    "\n",
    "'''\n",
    "Prediction=[]\n",
    "with tf.Session() as sess:\n",
    "    saver.restore(sess,\"./save/LeNet\")\n",
    "    for i in range(len(Image)):    \n",
    "        predict = sess.run(\"fc3/add:0\", feed_dict={\"Input:0\": Image[i]})\n",
    "        Prediction.append(predict)\n",
    "        \n",
    "Result=[]\n",
    "Probability=[]\n",
    "for i in Prediction:\n",
    "    ps = np.exp(i * 1.0)\n",
    "    ps /= np.sum(ps)\n",
    "    Probability.append(ps)\n",
    "    Result.append(np.argmax(ps))\n"
   ]
  },
  {
   "cell_type": "markdown",
   "metadata": {},
   "source": [
    "### Analyze Performance"
   ]
  },
  {
   "cell_type": "code",
   "execution_count": 16,
   "metadata": {},
   "outputs": [
    {
     "name": "stdout",
     "output_type": "stream",
     "text": [
      "Accuracy:\n",
      "1.0\n",
      "The 1-th image is:\n",
      "Bumpy road\n",
      "The 2-th image is:\n",
      "Speed limit (20km/h)\n",
      "The 3-th image is:\n",
      "Speed limit (30km/h)\n",
      "The 4-th image is:\n",
      "Speed limit (50km/h)\n",
      "The 5-th image is:\n",
      "Go straight or left\n"
     ]
    }
   ],
   "source": [
    "### Calculate the accuracy for these 5 new images. \n",
    "print (\"Accuracy:\")\n",
    "print (np.mean(Result==Image_y))\n",
    "count=0\n",
    "for i in Result:\n",
    "    count=count+1\n",
    "    print (\"The %d-th image is:\"%count)\n",
    "    print (Real_meaning[str(i)])"
   ]
  },
  {
   "cell_type": "markdown",
   "metadata": {},
   "source": [
    "### Output Top 5 Softmax Probabilities For Each Image Found on the Web"
   ]
  },
  {
   "cell_type": "markdown",
   "metadata": {},
   "source": [
    "For each of the new images, print out the model's softmax probabilities to show the **certainty** of the model's predictions (limit the output to the top 5 probabilities for each image). [`tf.nn.top_k`](https://www.tensorflow.org/versions/r0.12/api_docs/python/nn.html#top_k) could prove helpful here. \n",
    "\n",
    "The example below demonstrates how tf.nn.top_k can be used to find the top k predictions for each image.\n",
    "\n",
    "`tf.nn.top_k` will return the values and indices (class ids) of the top k predictions. So if k=3, for each sign, it'll return the 3 largest probabilities (out of a possible 43) and the correspoding class ids.\n",
    "\n",
    "Take this numpy array as an example. The values in the array represent predictions. The array contains softmax probabilities for five candidate images with six possible classes. `tf.nn.top_k` is used to choose the three classes with the highest probability:\n",
    "\n",
    "```\n",
    "# (5, 6) array\n",
    "a = np.array([[ 0.24879643,  0.07032244,  0.12641572,  0.34763842,  0.07893497,\n",
    "         0.12789202],\n",
    "       [ 0.28086119,  0.27569815,  0.08594638,  0.0178669 ,  0.18063401,\n",
    "         0.15899337],\n",
    "       [ 0.26076848,  0.23664738,  0.08020603,  0.07001922,  0.1134371 ,\n",
    "         0.23892179],\n",
    "       [ 0.11943333,  0.29198961,  0.02605103,  0.26234032,  0.1351348 ,\n",
    "         0.16505091],\n",
    "       [ 0.09561176,  0.34396535,  0.0643941 ,  0.16240774,  0.24206137,\n",
    "         0.09155967]])\n",
    "```\n",
    "\n",
    "Running it through `sess.run(tf.nn.top_k(tf.constant(a), k=3))` produces:\n",
    "\n",
    "```\n",
    "TopKV2(values=array([[ 0.34763842,  0.24879643,  0.12789202],\n",
    "       [ 0.28086119,  0.27569815,  0.18063401],\n",
    "       [ 0.26076848,  0.23892179,  0.23664738],\n",
    "       [ 0.29198961,  0.26234032,  0.16505091],\n",
    "       [ 0.34396535,  0.24206137,  0.16240774]]), indices=array([[3, 0, 5],\n",
    "       [0, 1, 4],\n",
    "       [0, 5, 1],\n",
    "       [1, 3, 5],\n",
    "       [1, 4, 3]], dtype=int32))\n",
    "```\n",
    "\n",
    "Looking just at the first row we get `[ 0.34763842,  0.24879643,  0.12789202]`, you can confirm these are the 3 largest probabilities in `a`. You'll also notice `[3, 0, 5]` are the corresponding indices."
   ]
  },
  {
   "cell_type": "code",
   "execution_count": 17,
   "metadata": {},
   "outputs": [
    {
     "name": "stdout",
     "output_type": "stream",
     "text": [
      "For the 0-th image, the top 5 possible class are:\n",
      "[22 29 25 24 18]\n",
      "For the 0-th image, the top 5 probability are:\n",
      "[  9.98955131e-01   1.04398106e-03   5.94708865e-07   2.96616349e-07\n",
      "   7.43310702e-09]\n",
      "For the 1-th image, the top 5 possible class are:\n",
      "[0 1 4 8 6]\n",
      "For the 1-th image, the top 5 probability are:\n",
      "[  9.99961674e-01   3.83272345e-05   1.35248963e-12   2.99667058e-21\n",
      "   5.27584770e-24]\n",
      "For the 2-th image, the top 5 possible class are:\n",
      "[ 1  2  7  0 31]\n",
      "For the 2-th image, the top 5 probability are:\n",
      "[  1.00000000e+00   1.24360766e-09   3.84905552e-10   1.91309649e-10\n",
      "   4.70387488e-12]\n",
      "For the 3-th image, the top 5 possible class are:\n",
      "[ 2  1 35  5 15]\n",
      "For the 3-th image, the top 5 probability are:\n",
      "[  1.00000000e+00   5.81597492e-10   1.78038790e-12   1.74611725e-12\n",
      "   1.18458184e-12]\n",
      "For the 4-th image, the top 5 possible class are:\n",
      "[37 18 40 39 24]\n",
      "For the 4-th image, the top 5 probability are:\n",
      "[  1.00000000e+00   5.51669721e-15   2.20975080e-16   2.72458702e-17\n",
      "   2.79209294e-18]\n"
     ]
    }
   ],
   "source": [
    "### Print out the top five softmax probabilities for the predictions on the German traffic sign images found on the web. \n",
    "for i in range(len(Probability)):\n",
    "    print (\"For the %d-th image, the top 5 possible class are:\"%i)\n",
    "    print (np.argsort(Probability[i][0])[::-1][:5])\n",
    "    print (\"For the %d-th image, the top 5 probability are:\"%i)\n",
    "    print (np.sort(Probability[i])[0][::-1][:5])\n"
   ]
  },
  {
   "cell_type": "markdown",
   "metadata": {},
   "source": [
    "### Project Writeup\n",
    "\n",
    "Once you have completed the code implementation, document your results in a project writeup using this [template](https://github.com/udacity/CarND-Traffic-Sign-Classifier-Project/blob/master/writeup_template.md) as a guide. The writeup can be in a markdown or pdf file. "
   ]
  },
  {
   "cell_type": "markdown",
   "metadata": {},
   "source": [
    "> **Note**: Once you have completed all of the code implementations and successfully answered each question above, you may finalize your work by exporting the iPython Notebook as an HTML document. You can do this by using the menu above and navigating to  \\n\",\n",
    "    \"**File -> Download as -> HTML (.html)**. Include the finished document along with this notebook as your submission."
   ]
  },
  {
   "cell_type": "markdown",
   "metadata": {},
   "source": [
    "---\n",
    "\n",
    "## Step 4 (Optional): Visualize the Neural Network's State with Test Images\n",
    "\n",
    " This Section is not required to complete but acts as an additional excersise for understaning the output of a neural network's weights. While neural networks can be a great learning device they are often referred to as a black box. We can understand what the weights of a neural network look like better by plotting their feature maps. After successfully training your neural network you can see what it's feature maps look like by plotting the output of the network's weight layers in response to a test stimuli image. From these plotted feature maps, it's possible to see what characteristics of an image the network finds interesting. For a sign, maybe the inner network feature maps react with high activation to the sign's boundary outline or to the contrast in the sign's painted symbol.\n",
    "\n",
    " Provided for you below is the function code that allows you to get the visualization output of any tensorflow weight layer you want. The inputs to the function should be a stimuli image, one used during training or a new one you provided, and then the tensorflow variable name that represents the layer's state during the training process, for instance if you wanted to see what the [LeNet lab's](https://classroom.udacity.com/nanodegrees/nd013/parts/fbf77062-5703-404e-b60c-95b78b2f3f9e/modules/6df7ae49-c61c-4bb2-a23e-6527e69209ec/lessons/601ae704-1035-4287-8b11-e2c2716217ad/concepts/d4aca031-508f-4e0b-b493-e7b706120f81) feature maps looked like for it's second convolutional layer you could enter conv2 as the tf_activation variable.\n",
    "\n",
    "For an example of what feature map outputs look like, check out NVIDIA's results in their paper [End-to-End Deep Learning for Self-Driving Cars](https://devblogs.nvidia.com/parallelforall/deep-learning-self-driving-cars/) in the section Visualization of internal CNN State. NVIDIA was able to show that their network's inner weights had high activations to road boundary lines by comparing feature maps from an image with a clear path to one without. Try experimenting with a similar test to show that your trained network's weights are looking for interesting features, whether it's looking at differences in feature maps from images with or without a sign, or even what feature maps look like in a trained network vs a completely untrained one on the same sign image.\n",
    "\n",
    "<figure>\n",
    " <img src=\"visualize_cnn.png\" width=\"380\" alt=\"Combined Image\" />\n",
    " <figcaption>\n",
    " <p></p> \n",
    " <p style=\"text-align: center;\"> Your output should look something like this (above)</p> \n",
    " </figcaption>\n",
    "</figure>\n",
    " <p></p> \n"
   ]
  },
  {
   "cell_type": "code",
   "execution_count": 23,
   "metadata": {
    "collapsed": true
   },
   "outputs": [],
   "source": [
    "### Visualize your network's feature maps here.\n",
    "### Feel free to use as many code cells as needed.\n",
    "\n",
    "# image_input: the test image being fed into the network to produce the feature maps\n",
    "# tf_activation: should be a tf variable name used during your training procedure that represents the calculated state of a specific weight layer\n",
    "# activation_min/max: can be used to view the activation contrast in more detail, by default matplot sets min and max to the actual min and max values of the output\n",
    "# plt_num: used to plot out multiple different weight feature map sets on the same block, just extend the plt number for each new feature map entry\n",
    "\n",
    "def outputFeatureMap(image_input, tf_activation, activation_min=-1, activation_max=-1 ,plt_num=1):\n",
    "    # Here make sure to preprocess your image_input in a way your network expects\n",
    "    # with size, normalization, ect if needed\n",
    "    # image_input =\n",
    "    # Note: x should be the same name as your network's tensorflow data placeholder variable\n",
    "    # If you get an error tf_activation is not defined it may be having trouble accessing the variable from inside a function\n",
    "    activation = tf_activation.eval(session=sess,feed_dict={x : image_input})\n",
    "    featuremaps = activation.shape[3]\n",
    "    plt.figure(plt_num, figsize=(15,15))\n",
    "    for featuremap in range(featuremaps):\n",
    "        plt.subplot(6,8, featuremap+1) # sets the number of feature maps to show on each row and column\n",
    "        plt.title('FeatureMap ' + str(featuremap)) # displays the feature map number\n",
    "        if activation_min != -1 & activation_max != -1:\n",
    "            plt.imshow(activation[0,:,:, featuremap], interpolation=\"nearest\", vmin =activation_min, vmax=activation_max, cmap=\"gray\")\n",
    "        elif activation_max != -1:\n",
    "            plt.imshow(activation[0,:,:, featuremap], interpolation=\"nearest\", vmax=activation_max, cmap=\"gray\")\n",
    "        elif activation_min !=-1:\n",
    "            plt.imshow(activation[0,:,:, featuremap], interpolation=\"nearest\", vmin=activation_min, cmap=\"gray\")\n",
    "        else:\n",
    "            plt.imshow(activation[0,:,:, featuremap], interpolation=\"nearest\", cmap=\"gray\")"
   ]
  },
  {
   "cell_type": "code",
   "execution_count": null,
   "metadata": {
    "collapsed": true
   },
   "outputs": [],
   "source": []
  }
 ],
 "metadata": {
  "anaconda-cloud": {},
  "kernelspec": {
   "display_name": "Python 3",
   "language": "python",
   "name": "python3"
  },
  "language_info": {
   "codemirror_mode": {
    "name": "ipython",
    "version": 3
   },
   "file_extension": ".py",
   "mimetype": "text/x-python",
   "name": "python",
   "nbconvert_exporter": "python",
   "pygments_lexer": "ipython3",
   "version": "3.6.1"
  }
 },
 "nbformat": 4,
 "nbformat_minor": 1
}
